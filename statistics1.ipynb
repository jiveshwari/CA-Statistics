{
 "cells": [
  {
   "cell_type": "code",
   "execution_count": 1,
   "id": "6842ac95",
   "metadata": {},
   "outputs": [],
   "source": [
    "import pandas as pd\n",
    "import plotly.express as px"
   ]
  },
  {
   "cell_type": "code",
   "execution_count": 3,
   "id": "185a087e",
   "metadata": {},
   "outputs": [],
   "source": [
    "path = './data/dagstuhl-15512-argquality-corpus-annotated.csv'\n",
    "file = open(path,encoding='latin-1')\n",
    "\n",
    "# create df\n",
    "data = pd.read_csv(file,sep='\\t')\n",
    "    "
   ]
  },
  {
   "cell_type": "code",
   "execution_count": 4,
   "id": "868a6cb1",
   "metadata": {},
   "outputs": [
    {
     "data": {
      "text/html": [
       "<div>\n",
       "<style scoped>\n",
       "    .dataframe tbody tr th:only-of-type {\n",
       "        vertical-align: middle;\n",
       "    }\n",
       "\n",
       "    .dataframe tbody tr th {\n",
       "        vertical-align: top;\n",
       "    }\n",
       "\n",
       "    .dataframe thead th {\n",
       "        text-align: right;\n",
       "    }\n",
       "</style>\n",
       "<table border=\"1\" class=\"dataframe\">\n",
       "  <thead>\n",
       "    <tr style=\"text-align: right;\">\n",
       "      <th></th>\n",
       "      <th>annotator</th>\n",
       "      <th>argumentative</th>\n",
       "      <th>overall quality</th>\n",
       "      <th>local acceptability</th>\n",
       "      <th>appropriateness</th>\n",
       "      <th>arrangement</th>\n",
       "      <th>clarity</th>\n",
       "      <th>cogency</th>\n",
       "      <th>effectiveness</th>\n",
       "      <th>global acceptability</th>\n",
       "      <th>...</th>\n",
       "      <th>global sufficiency</th>\n",
       "      <th>reasonableness</th>\n",
       "      <th>local relevance</th>\n",
       "      <th>credibility</th>\n",
       "      <th>emotional appeal</th>\n",
       "      <th>sufficiency</th>\n",
       "      <th>argument</th>\n",
       "      <th>#id</th>\n",
       "      <th>issue</th>\n",
       "      <th>stance</th>\n",
       "    </tr>\n",
       "  </thead>\n",
       "  <tbody>\n",
       "    <tr>\n",
       "      <th>0</th>\n",
       "      <td>1</td>\n",
       "      <td>y</td>\n",
       "      <td>1 (Low)</td>\n",
       "      <td>1 (Low)</td>\n",
       "      <td>1 (Low)</td>\n",
       "      <td>1 (Low)</td>\n",
       "      <td>2 (Average)</td>\n",
       "      <td>1 (Low)</td>\n",
       "      <td>1 (Low)</td>\n",
       "      <td>1 (Low)</td>\n",
       "      <td>...</td>\n",
       "      <td>1 (Low)</td>\n",
       "      <td>1 (Low)</td>\n",
       "      <td>1 (Low)</td>\n",
       "      <td>1 (Low)</td>\n",
       "      <td>1 (Low)</td>\n",
       "      <td>1 (Low)</td>\n",
       "      <td>it is true that bottled water is a waste, but ...</td>\n",
       "      <td>arg219250</td>\n",
       "      <td>ban-plastic-water-bottles</td>\n",
       "      <td>no-bad-for-the-economy</td>\n",
       "    </tr>\n",
       "    <tr>\n",
       "      <th>1</th>\n",
       "      <td>2</td>\n",
       "      <td>y</td>\n",
       "      <td>1 (Low)</td>\n",
       "      <td>3 (High)</td>\n",
       "      <td>2 (Average)</td>\n",
       "      <td>2 (Average)</td>\n",
       "      <td>3 (High)</td>\n",
       "      <td>1 (Low)</td>\n",
       "      <td>1 (Low)</td>\n",
       "      <td>3 (High)</td>\n",
       "      <td>...</td>\n",
       "      <td>1 (Low)</td>\n",
       "      <td>2 (Average)</td>\n",
       "      <td>2 (Average)</td>\n",
       "      <td>2 (Average)</td>\n",
       "      <td>2 (Average)</td>\n",
       "      <td>1 (Low)</td>\n",
       "      <td>it is true that bottled water is a waste, but ...</td>\n",
       "      <td>arg219250</td>\n",
       "      <td>ban-plastic-water-bottles</td>\n",
       "      <td>no-bad-for-the-economy</td>\n",
       "    </tr>\n",
       "    <tr>\n",
       "      <th>2</th>\n",
       "      <td>3</td>\n",
       "      <td>y</td>\n",
       "      <td>2 (Average)</td>\n",
       "      <td>2 (Average)</td>\n",
       "      <td>2 (Average)</td>\n",
       "      <td>2 (Average)</td>\n",
       "      <td>2 (Average)</td>\n",
       "      <td>2 (Average)</td>\n",
       "      <td>2 (Average)</td>\n",
       "      <td>2 (Average)</td>\n",
       "      <td>...</td>\n",
       "      <td>2 (Average)</td>\n",
       "      <td>2 (Average)</td>\n",
       "      <td>3 (High)</td>\n",
       "      <td>2 (Average)</td>\n",
       "      <td>1 (Low)</td>\n",
       "      <td>2 (Average)</td>\n",
       "      <td>it is true that bottled water is a waste, but ...</td>\n",
       "      <td>arg219250</td>\n",
       "      <td>ban-plastic-water-bottles</td>\n",
       "      <td>no-bad-for-the-economy</td>\n",
       "    </tr>\n",
       "    <tr>\n",
       "      <th>3</th>\n",
       "      <td>1</td>\n",
       "      <td>y</td>\n",
       "      <td>2 (Average)</td>\n",
       "      <td>3 (High)</td>\n",
       "      <td>2 (Average)</td>\n",
       "      <td>2 (Average)</td>\n",
       "      <td>2 (Average)</td>\n",
       "      <td>2 (Average)</td>\n",
       "      <td>2 (Average)</td>\n",
       "      <td>2 (Average)</td>\n",
       "      <td>...</td>\n",
       "      <td>2 (Average)</td>\n",
       "      <td>2 (Average)</td>\n",
       "      <td>3 (High)</td>\n",
       "      <td>3 (High)</td>\n",
       "      <td>2 (Average)</td>\n",
       "      <td>2 (Average)</td>\n",
       "      <td>Most Americans on average recycle 86-88% of th...</td>\n",
       "      <td>arg219293</td>\n",
       "      <td>ban-plastic-water-bottles</td>\n",
       "      <td>no-bad-for-the-economy</td>\n",
       "    </tr>\n",
       "    <tr>\n",
       "      <th>4</th>\n",
       "      <td>2</td>\n",
       "      <td>y</td>\n",
       "      <td>1 (Low)</td>\n",
       "      <td>2 (Average)</td>\n",
       "      <td>1 (Low)</td>\n",
       "      <td>2 (Average)</td>\n",
       "      <td>2 (Average)</td>\n",
       "      <td>1 (Low)</td>\n",
       "      <td>1 (Low)</td>\n",
       "      <td>2 (Average)</td>\n",
       "      <td>...</td>\n",
       "      <td>1 (Low)</td>\n",
       "      <td>1 (Low)</td>\n",
       "      <td>2 (Average)</td>\n",
       "      <td>2 (Average)</td>\n",
       "      <td>2 (Average)</td>\n",
       "      <td>1 (Low)</td>\n",
       "      <td>Most Americans on average recycle 86-88% of th...</td>\n",
       "      <td>arg219293</td>\n",
       "      <td>ban-plastic-water-bottles</td>\n",
       "      <td>no-bad-for-the-economy</td>\n",
       "    </tr>\n",
       "  </tbody>\n",
       "</table>\n",
       "<p>5 rows × 21 columns</p>\n",
       "</div>"
      ],
      "text/plain": [
       "   annotator argumentative overall quality local acceptability  \\\n",
       "0          1             y         1 (Low)             1 (Low)   \n",
       "1          2             y         1 (Low)            3 (High)   \n",
       "2          3             y     2 (Average)         2 (Average)   \n",
       "3          1             y     2 (Average)            3 (High)   \n",
       "4          2             y         1 (Low)         2 (Average)   \n",
       "\n",
       "  appropriateness  arrangement      clarity      cogency effectiveness  \\\n",
       "0         1 (Low)      1 (Low)  2 (Average)      1 (Low)       1 (Low)   \n",
       "1     2 (Average)  2 (Average)     3 (High)      1 (Low)       1 (Low)   \n",
       "2     2 (Average)  2 (Average)  2 (Average)  2 (Average)   2 (Average)   \n",
       "3     2 (Average)  2 (Average)  2 (Average)  2 (Average)   2 (Average)   \n",
       "4         1 (Low)  2 (Average)  2 (Average)      1 (Low)       1 (Low)   \n",
       "\n",
       "  global acceptability  ... global sufficiency reasonableness local relevance  \\\n",
       "0              1 (Low)  ...            1 (Low)        1 (Low)         1 (Low)   \n",
       "1             3 (High)  ...            1 (Low)    2 (Average)     2 (Average)   \n",
       "2          2 (Average)  ...        2 (Average)    2 (Average)        3 (High)   \n",
       "3          2 (Average)  ...        2 (Average)    2 (Average)        3 (High)   \n",
       "4          2 (Average)  ...            1 (Low)        1 (Low)     2 (Average)   \n",
       "\n",
       "   credibility emotional appeal  sufficiency  \\\n",
       "0      1 (Low)          1 (Low)      1 (Low)   \n",
       "1  2 (Average)      2 (Average)      1 (Low)   \n",
       "2  2 (Average)          1 (Low)  2 (Average)   \n",
       "3     3 (High)      2 (Average)  2 (Average)   \n",
       "4  2 (Average)      2 (Average)      1 (Low)   \n",
       "\n",
       "                                            argument        #id  \\\n",
       "0  it is true that bottled water is a waste, but ...  arg219250   \n",
       "1  it is true that bottled water is a waste, but ...  arg219250   \n",
       "2  it is true that bottled water is a waste, but ...  arg219250   \n",
       "3  Most Americans on average recycle 86-88% of th...  arg219293   \n",
       "4  Most Americans on average recycle 86-88% of th...  arg219293   \n",
       "\n",
       "                       issue                  stance  \n",
       "0  ban-plastic-water-bottles  no-bad-for-the-economy  \n",
       "1  ban-plastic-water-bottles  no-bad-for-the-economy  \n",
       "2  ban-plastic-water-bottles  no-bad-for-the-economy  \n",
       "3  ban-plastic-water-bottles  no-bad-for-the-economy  \n",
       "4  ban-plastic-water-bottles  no-bad-for-the-economy  \n",
       "\n",
       "[5 rows x 21 columns]"
      ]
     },
     "execution_count": 4,
     "metadata": {},
     "output_type": "execute_result"
    }
   ],
   "source": [
    "data.head()"
   ]
  },
  {
   "cell_type": "code",
   "execution_count": 5,
   "id": "3f7260cb",
   "metadata": {},
   "outputs": [],
   "source": [
    "def extractScore(score):\n",
    "    # check for nan\n",
    "    if score != score:\n",
    "        return 0.0 \n",
    "    return float(score.split(\" (\")[0])    \n"
   ]
  },
  {
   "cell_type": "code",
   "execution_count": 6,
   "id": "9d12f378",
   "metadata": {},
   "outputs": [],
   "source": [
    "no_of_low_args = 0\n",
    "no_of_avg_args = 0\n",
    "no_of_high_args = 0\n",
    "no_of_non_args = 0"
   ]
  },
  {
   "cell_type": "code",
   "execution_count": 7,
   "id": "ba11d569",
   "metadata": {},
   "outputs": [],
   "source": [
    "for row in range(0,len(data), 3):\n",
    "    ann1 = data.iloc[row]\n",
    "    ann2 = data.iloc[row+1]\n",
    "    ann3 = data.iloc[row+2]\n",
    "    mean = round((extractScore(ann1['clarity']) + extractScore(ann2['clarity']) + extractScore(ann3['clarity']))/3)\n",
    "    if mean == 0:\n",
    "        no_of_non_args += 1\n",
    "    if mean == 1:\n",
    "        no_of_low_args += 1\n",
    "    if mean == 2:\n",
    "        no_of_avg_args += 1\n",
    "    if mean == 3:\n",
    "        no_of_high_args += 1"
   ]
  },
  {
   "cell_type": "code",
   "execution_count": 8,
   "id": "6e3bed7d",
   "metadata": {},
   "outputs": [
    {
     "name": "stdout",
     "output_type": "stream",
     "text": [
      "no_of_non_args  4\n",
      "no_of_low_args  47\n",
      "no_of_avg_args  208\n",
      "no_of_high_args  61\n"
     ]
    }
   ],
   "source": [
    "print(\"no_of_non_args \",no_of_non_args)\n",
    "print(\"no_of_low_args \",no_of_low_args)\n",
    "print(\"no_of_avg_args \",no_of_avg_args)\n",
    "print(\"no_of_high_args \",no_of_high_args)\n"
   ]
  },
  {
   "cell_type": "code",
   "execution_count": 9,
   "id": "62df47be",
   "metadata": {},
   "outputs": [
    {
     "data": {
      "application/vnd.plotly.v1+json": {
       "config": {
        "plotlyServerURL": "https://plot.ly"
       },
       "data": [
        {
         "alignmentgroup": "True",
         "hovertemplate": "Arguments classified based on clarity scores=%{x}<br>Number of arguments=%{y}<extra></extra>",
         "legendgroup": "",
         "marker": {
          "color": "#636efa",
          "pattern": {
           "shape": ""
          }
         },
         "name": "",
         "offsetgroup": "",
         "orientation": "v",
         "showlegend": false,
         "textposition": "auto",
         "type": "bar",
         "x": [
          "NAN",
          "LOW",
          "AVG",
          "HIGH"
         ],
         "xaxis": "x",
         "y": [
          4,
          47,
          208,
          61
         ],
         "yaxis": "y"
        }
       ],
       "layout": {
        "barmode": "relative",
        "legend": {
         "tracegroupgap": 0
        },
        "margin": {
         "t": 60
        },
        "template": {
         "data": {
          "bar": [
           {
            "error_x": {
             "color": "#2a3f5f"
            },
            "error_y": {
             "color": "#2a3f5f"
            },
            "marker": {
             "line": {
              "color": "#E5ECF6",
              "width": 0.5
             },
             "pattern": {
              "fillmode": "overlay",
              "size": 10,
              "solidity": 0.2
             }
            },
            "type": "bar"
           }
          ],
          "barpolar": [
           {
            "marker": {
             "line": {
              "color": "#E5ECF6",
              "width": 0.5
             },
             "pattern": {
              "fillmode": "overlay",
              "size": 10,
              "solidity": 0.2
             }
            },
            "type": "barpolar"
           }
          ],
          "carpet": [
           {
            "aaxis": {
             "endlinecolor": "#2a3f5f",
             "gridcolor": "white",
             "linecolor": "white",
             "minorgridcolor": "white",
             "startlinecolor": "#2a3f5f"
            },
            "baxis": {
             "endlinecolor": "#2a3f5f",
             "gridcolor": "white",
             "linecolor": "white",
             "minorgridcolor": "white",
             "startlinecolor": "#2a3f5f"
            },
            "type": "carpet"
           }
          ],
          "choropleth": [
           {
            "colorbar": {
             "outlinewidth": 0,
             "ticks": ""
            },
            "type": "choropleth"
           }
          ],
          "contour": [
           {
            "colorbar": {
             "outlinewidth": 0,
             "ticks": ""
            },
            "colorscale": [
             [
              0,
              "#0d0887"
             ],
             [
              0.1111111111111111,
              "#46039f"
             ],
             [
              0.2222222222222222,
              "#7201a8"
             ],
             [
              0.3333333333333333,
              "#9c179e"
             ],
             [
              0.4444444444444444,
              "#bd3786"
             ],
             [
              0.5555555555555556,
              "#d8576b"
             ],
             [
              0.6666666666666666,
              "#ed7953"
             ],
             [
              0.7777777777777778,
              "#fb9f3a"
             ],
             [
              0.8888888888888888,
              "#fdca26"
             ],
             [
              1,
              "#f0f921"
             ]
            ],
            "type": "contour"
           }
          ],
          "contourcarpet": [
           {
            "colorbar": {
             "outlinewidth": 0,
             "ticks": ""
            },
            "type": "contourcarpet"
           }
          ],
          "heatmap": [
           {
            "colorbar": {
             "outlinewidth": 0,
             "ticks": ""
            },
            "colorscale": [
             [
              0,
              "#0d0887"
             ],
             [
              0.1111111111111111,
              "#46039f"
             ],
             [
              0.2222222222222222,
              "#7201a8"
             ],
             [
              0.3333333333333333,
              "#9c179e"
             ],
             [
              0.4444444444444444,
              "#bd3786"
             ],
             [
              0.5555555555555556,
              "#d8576b"
             ],
             [
              0.6666666666666666,
              "#ed7953"
             ],
             [
              0.7777777777777778,
              "#fb9f3a"
             ],
             [
              0.8888888888888888,
              "#fdca26"
             ],
             [
              1,
              "#f0f921"
             ]
            ],
            "type": "heatmap"
           }
          ],
          "heatmapgl": [
           {
            "colorbar": {
             "outlinewidth": 0,
             "ticks": ""
            },
            "colorscale": [
             [
              0,
              "#0d0887"
             ],
             [
              0.1111111111111111,
              "#46039f"
             ],
             [
              0.2222222222222222,
              "#7201a8"
             ],
             [
              0.3333333333333333,
              "#9c179e"
             ],
             [
              0.4444444444444444,
              "#bd3786"
             ],
             [
              0.5555555555555556,
              "#d8576b"
             ],
             [
              0.6666666666666666,
              "#ed7953"
             ],
             [
              0.7777777777777778,
              "#fb9f3a"
             ],
             [
              0.8888888888888888,
              "#fdca26"
             ],
             [
              1,
              "#f0f921"
             ]
            ],
            "type": "heatmapgl"
           }
          ],
          "histogram": [
           {
            "marker": {
             "pattern": {
              "fillmode": "overlay",
              "size": 10,
              "solidity": 0.2
             }
            },
            "type": "histogram"
           }
          ],
          "histogram2d": [
           {
            "colorbar": {
             "outlinewidth": 0,
             "ticks": ""
            },
            "colorscale": [
             [
              0,
              "#0d0887"
             ],
             [
              0.1111111111111111,
              "#46039f"
             ],
             [
              0.2222222222222222,
              "#7201a8"
             ],
             [
              0.3333333333333333,
              "#9c179e"
             ],
             [
              0.4444444444444444,
              "#bd3786"
             ],
             [
              0.5555555555555556,
              "#d8576b"
             ],
             [
              0.6666666666666666,
              "#ed7953"
             ],
             [
              0.7777777777777778,
              "#fb9f3a"
             ],
             [
              0.8888888888888888,
              "#fdca26"
             ],
             [
              1,
              "#f0f921"
             ]
            ],
            "type": "histogram2d"
           }
          ],
          "histogram2dcontour": [
           {
            "colorbar": {
             "outlinewidth": 0,
             "ticks": ""
            },
            "colorscale": [
             [
              0,
              "#0d0887"
             ],
             [
              0.1111111111111111,
              "#46039f"
             ],
             [
              0.2222222222222222,
              "#7201a8"
             ],
             [
              0.3333333333333333,
              "#9c179e"
             ],
             [
              0.4444444444444444,
              "#bd3786"
             ],
             [
              0.5555555555555556,
              "#d8576b"
             ],
             [
              0.6666666666666666,
              "#ed7953"
             ],
             [
              0.7777777777777778,
              "#fb9f3a"
             ],
             [
              0.8888888888888888,
              "#fdca26"
             ],
             [
              1,
              "#f0f921"
             ]
            ],
            "type": "histogram2dcontour"
           }
          ],
          "mesh3d": [
           {
            "colorbar": {
             "outlinewidth": 0,
             "ticks": ""
            },
            "type": "mesh3d"
           }
          ],
          "parcoords": [
           {
            "line": {
             "colorbar": {
              "outlinewidth": 0,
              "ticks": ""
             }
            },
            "type": "parcoords"
           }
          ],
          "pie": [
           {
            "automargin": true,
            "type": "pie"
           }
          ],
          "scatter": [
           {
            "fillpattern": {
             "fillmode": "overlay",
             "size": 10,
             "solidity": 0.2
            },
            "type": "scatter"
           }
          ],
          "scatter3d": [
           {
            "line": {
             "colorbar": {
              "outlinewidth": 0,
              "ticks": ""
             }
            },
            "marker": {
             "colorbar": {
              "outlinewidth": 0,
              "ticks": ""
             }
            },
            "type": "scatter3d"
           }
          ],
          "scattercarpet": [
           {
            "marker": {
             "colorbar": {
              "outlinewidth": 0,
              "ticks": ""
             }
            },
            "type": "scattercarpet"
           }
          ],
          "scattergeo": [
           {
            "marker": {
             "colorbar": {
              "outlinewidth": 0,
              "ticks": ""
             }
            },
            "type": "scattergeo"
           }
          ],
          "scattergl": [
           {
            "marker": {
             "colorbar": {
              "outlinewidth": 0,
              "ticks": ""
             }
            },
            "type": "scattergl"
           }
          ],
          "scattermapbox": [
           {
            "marker": {
             "colorbar": {
              "outlinewidth": 0,
              "ticks": ""
             }
            },
            "type": "scattermapbox"
           }
          ],
          "scatterpolar": [
           {
            "marker": {
             "colorbar": {
              "outlinewidth": 0,
              "ticks": ""
             }
            },
            "type": "scatterpolar"
           }
          ],
          "scatterpolargl": [
           {
            "marker": {
             "colorbar": {
              "outlinewidth": 0,
              "ticks": ""
             }
            },
            "type": "scatterpolargl"
           }
          ],
          "scatterternary": [
           {
            "marker": {
             "colorbar": {
              "outlinewidth": 0,
              "ticks": ""
             }
            },
            "type": "scatterternary"
           }
          ],
          "surface": [
           {
            "colorbar": {
             "outlinewidth": 0,
             "ticks": ""
            },
            "colorscale": [
             [
              0,
              "#0d0887"
             ],
             [
              0.1111111111111111,
              "#46039f"
             ],
             [
              0.2222222222222222,
              "#7201a8"
             ],
             [
              0.3333333333333333,
              "#9c179e"
             ],
             [
              0.4444444444444444,
              "#bd3786"
             ],
             [
              0.5555555555555556,
              "#d8576b"
             ],
             [
              0.6666666666666666,
              "#ed7953"
             ],
             [
              0.7777777777777778,
              "#fb9f3a"
             ],
             [
              0.8888888888888888,
              "#fdca26"
             ],
             [
              1,
              "#f0f921"
             ]
            ],
            "type": "surface"
           }
          ],
          "table": [
           {
            "cells": {
             "fill": {
              "color": "#EBF0F8"
             },
             "line": {
              "color": "white"
             }
            },
            "header": {
             "fill": {
              "color": "#C8D4E3"
             },
             "line": {
              "color": "white"
             }
            },
            "type": "table"
           }
          ]
         },
         "layout": {
          "annotationdefaults": {
           "arrowcolor": "#2a3f5f",
           "arrowhead": 0,
           "arrowwidth": 1
          },
          "autotypenumbers": "strict",
          "coloraxis": {
           "colorbar": {
            "outlinewidth": 0,
            "ticks": ""
           }
          },
          "colorscale": {
           "diverging": [
            [
             0,
             "#8e0152"
            ],
            [
             0.1,
             "#c51b7d"
            ],
            [
             0.2,
             "#de77ae"
            ],
            [
             0.3,
             "#f1b6da"
            ],
            [
             0.4,
             "#fde0ef"
            ],
            [
             0.5,
             "#f7f7f7"
            ],
            [
             0.6,
             "#e6f5d0"
            ],
            [
             0.7,
             "#b8e186"
            ],
            [
             0.8,
             "#7fbc41"
            ],
            [
             0.9,
             "#4d9221"
            ],
            [
             1,
             "#276419"
            ]
           ],
           "sequential": [
            [
             0,
             "#0d0887"
            ],
            [
             0.1111111111111111,
             "#46039f"
            ],
            [
             0.2222222222222222,
             "#7201a8"
            ],
            [
             0.3333333333333333,
             "#9c179e"
            ],
            [
             0.4444444444444444,
             "#bd3786"
            ],
            [
             0.5555555555555556,
             "#d8576b"
            ],
            [
             0.6666666666666666,
             "#ed7953"
            ],
            [
             0.7777777777777778,
             "#fb9f3a"
            ],
            [
             0.8888888888888888,
             "#fdca26"
            ],
            [
             1,
             "#f0f921"
            ]
           ],
           "sequentialminus": [
            [
             0,
             "#0d0887"
            ],
            [
             0.1111111111111111,
             "#46039f"
            ],
            [
             0.2222222222222222,
             "#7201a8"
            ],
            [
             0.3333333333333333,
             "#9c179e"
            ],
            [
             0.4444444444444444,
             "#bd3786"
            ],
            [
             0.5555555555555556,
             "#d8576b"
            ],
            [
             0.6666666666666666,
             "#ed7953"
            ],
            [
             0.7777777777777778,
             "#fb9f3a"
            ],
            [
             0.8888888888888888,
             "#fdca26"
            ],
            [
             1,
             "#f0f921"
            ]
           ]
          },
          "colorway": [
           "#636efa",
           "#EF553B",
           "#00cc96",
           "#ab63fa",
           "#FFA15A",
           "#19d3f3",
           "#FF6692",
           "#B6E880",
           "#FF97FF",
           "#FECB52"
          ],
          "font": {
           "color": "#2a3f5f"
          },
          "geo": {
           "bgcolor": "white",
           "lakecolor": "white",
           "landcolor": "#E5ECF6",
           "showlakes": true,
           "showland": true,
           "subunitcolor": "white"
          },
          "hoverlabel": {
           "align": "left"
          },
          "hovermode": "closest",
          "mapbox": {
           "style": "light"
          },
          "paper_bgcolor": "white",
          "plot_bgcolor": "#E5ECF6",
          "polar": {
           "angularaxis": {
            "gridcolor": "white",
            "linecolor": "white",
            "ticks": ""
           },
           "bgcolor": "#E5ECF6",
           "radialaxis": {
            "gridcolor": "white",
            "linecolor": "white",
            "ticks": ""
           }
          },
          "scene": {
           "xaxis": {
            "backgroundcolor": "#E5ECF6",
            "gridcolor": "white",
            "gridwidth": 2,
            "linecolor": "white",
            "showbackground": true,
            "ticks": "",
            "zerolinecolor": "white"
           },
           "yaxis": {
            "backgroundcolor": "#E5ECF6",
            "gridcolor": "white",
            "gridwidth": 2,
            "linecolor": "white",
            "showbackground": true,
            "ticks": "",
            "zerolinecolor": "white"
           },
           "zaxis": {
            "backgroundcolor": "#E5ECF6",
            "gridcolor": "white",
            "gridwidth": 2,
            "linecolor": "white",
            "showbackground": true,
            "ticks": "",
            "zerolinecolor": "white"
           }
          },
          "shapedefaults": {
           "line": {
            "color": "#2a3f5f"
           }
          },
          "ternary": {
           "aaxis": {
            "gridcolor": "white",
            "linecolor": "white",
            "ticks": ""
           },
           "baxis": {
            "gridcolor": "white",
            "linecolor": "white",
            "ticks": ""
           },
           "bgcolor": "#E5ECF6",
           "caxis": {
            "gridcolor": "white",
            "linecolor": "white",
            "ticks": ""
           }
          },
          "title": {
           "x": 0.05
          },
          "xaxis": {
           "automargin": true,
           "gridcolor": "white",
           "linecolor": "white",
           "ticks": "",
           "title": {
            "standoff": 15
           },
           "zerolinecolor": "white",
           "zerolinewidth": 2
          },
          "yaxis": {
           "automargin": true,
           "gridcolor": "white",
           "linecolor": "white",
           "ticks": "",
           "title": {
            "standoff": 15
           },
           "zerolinecolor": "white",
           "zerolinewidth": 2
          }
         }
        },
        "xaxis": {
         "anchor": "y",
         "domain": [
          0,
          1
         ],
         "title": {
          "text": "Arguments classified based on clarity scores"
         }
        },
        "yaxis": {
         "anchor": "x",
         "domain": [
          0,
          1
         ],
         "title": {
          "text": "Number of arguments"
         }
        }
       }
      }
     },
     "metadata": {},
     "output_type": "display_data"
    }
   ],
   "source": [
    "df = {\"Arguments classified based on clarity scores\" :[\"NAN\", \"LOW\", \"AVG\", \"HIGH\"],\"Number of arguments\": [no_of_non_args,no_of_low_args,no_of_avg_args,no_of_high_args]}\n",
    "d = pd.DataFrame(df)\n",
    "\n",
    "fig = px.bar(df,x =\"Arguments classified based on clarity scores\", y=\"Number of arguments\")\n",
    "fig.show()\n"
   ]
  },
  {
   "cell_type": "code",
   "execution_count": null,
   "id": "e5ab1c2a",
   "metadata": {},
   "outputs": [],
   "source": []
  },
  {
   "cell_type": "code",
   "execution_count": null,
   "id": "362224e2",
   "metadata": {},
   "outputs": [],
   "source": []
  }
 ],
 "metadata": {
  "kernelspec": {
   "display_name": "Python 3.9.12 64-bit ('3.9.12')",
   "language": "python",
   "name": "python3"
  },
  "language_info": {
   "codemirror_mode": {
    "name": "ipython",
    "version": 3
   },
   "file_extension": ".py",
   "mimetype": "text/x-python",
   "name": "python",
   "nbconvert_exporter": "python",
   "pygments_lexer": "ipython3",
   "version": "3.9.12"
  },
  "vscode": {
   "interpreter": {
    "hash": "b9b2dad36214e91f87743ebad8ae970d7576b96b101587778e136dfb87ae499e"
   }
  }
 },
 "nbformat": 4,
 "nbformat_minor": 5
}
